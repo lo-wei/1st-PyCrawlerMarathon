{
 "cells": [
  {
   "cell_type": "markdown",
   "metadata": {},
   "source": [
    "# YAHOO電影爬蟲練習\n",
    "## 練習爬取電影放映資訊。必須逐步獲取電影的代號、放映地區、放映日期後，再送出查詢給伺服器。"
   ]
  },
  {
   "cell_type": "code",
   "execution_count": 1,
   "metadata": {},
   "outputs": [],
   "source": [
    "import requests\n",
    "import re\n",
    "from bs4 import BeautifulSoup"
   ]
  },
  {
   "cell_type": "markdown",
   "metadata": {},
   "source": [
    "### 先搜尋全部的電影代號(ID)資訊"
   ]
  },
  {
   "cell_type": "code",
   "execution_count": 2,
   "metadata": {},
   "outputs": [
    {
     "name": "stdout",
     "output_type": "stream",
     "text": [
      "Movie: 鬼魅之家, ID: 10459\n",
      "Movie: 熱帶雨, ID: 10448\n",
      "Movie: 吸血黏土, ID: 10439\n",
      "Movie: 只想受到你的歡迎, ID: 10411\n",
      "Movie: 大整形家, ID: 10395\n",
      "Movie: 王牌辯士, ID: 10346\n",
      "Movie: 紅鞋公主與七矮人, ID: 10417\n",
      "Movie: 黑水風暴, ID: 10398\n",
      "Movie: 1917, ID: 10189\n",
      "Movie: 我們的7日戰爭, ID: 10453\n",
      "Movie: 肥龍過江, ID: 10449\n",
      "Movie: 岳父受死吧, ID: 10446\n",
      "Movie: 殺手撿到槍, ID: 10423\n",
      "Movie: 你的情歌, ID: 10407\n",
      "Movie: 紳士追殺令, ID: 10317\n",
      "Movie: 杜立德, ID: 10316\n",
      "Movie: 喜從天降, ID: 10123\n",
      "Movie: 深海終劫站, ID: 10230\n",
      "Movie: 她們, ID: 10202\n",
      "Movie: 變身特務, ID: 9008\n",
      "Movie: 然後我們跳了舞, ID: 10451\n",
      "Movie: 巧虎電影：英雄遊樂園, ID: 10429\n",
      "Movie: 在黑暗中漫舞：20週年數位修復版, ID: 10428\n",
      "Movie: 青春催落去, ID: 10404\n",
      "Movie: 不完美的正義, ID: 10243\n",
      "Movie: 絕地戰警FOR LIFE, ID: 10242\n",
      "Movie: 惡靈20, ID: 10444\n",
      "Movie: 星星知我心, ID: 10409\n",
      "Movie: Cunningham 機遇之舞, ID: 10385\n",
      "Movie: 魯邦三世 The First, ID: 10355\n",
      "Movie: 重磅腥聞, ID: 10320\n",
      "Movie: 別告訴她, ID: 10382\n",
      "Movie: 真愛裁會贏, ID: 10362\n",
      "Movie: 兔嘲男孩, ID: 10283\n",
      "Movie: 海上鋼琴師4K數位修復, ID: 10425\n",
      "Movie: 鹿皮奇談, ID: 10420\n",
      "Movie: 倒數計死, ID: 10390\n",
      "Movie: 霹靂嬌娃, ID: 10124\n",
      "Movie: 白頭山：半島浩劫, ID: 10354\n",
      "Movie: 茱蒂, ID: 10112\n",
      "Movie: 燃燒女子的畫像, ID: 10069\n",
      "Movie: 葉問4：完結篇, ID: 9890\n",
      "Movie: STAR WARS : 天行者的崛起, ID: 10225\n",
      "Movie: 黑熊來了, ID: 10357\n",
      "Movie: 巴黎小情聖, ID: 10329\n",
      "Movie: 每個月來訪一次的月經醬, ID: 10324\n",
      "Movie: 野蠻遊戲：全面晉級, ID: 10134\n",
      "Movie: 懸案密碼前傳：瓶中信, ID: 10254\n",
      "Movie: 布魯克林孤兒, ID: 10224\n",
      "Movie: 暴走曼哈頓, ID: 10044\n",
      "Movie: 鋒迴路轉, ID: 10258\n",
      "Movie: 賽道狂人, ID: 10097\n",
      "Movie: 冰雪奇緣2, ID: 9597\n",
      "Movie: 抱歉我們錯過你了, ID: 10309\n",
      "Movie: 萬萬沒想到, ID: 10281\n",
      "Movie: 新聞記者, ID: 10217\n",
      "Movie: 救火奶爸, ID: 10164\n",
      "Movie: 決戰中途島, ID: 10130\n",
      "Movie: 安眠醫生, ID: 10098\n",
      "Movie: 魔鬼終結者：黑暗宿命, ID: 10067\n",
      "Movie: 阿達一族, ID: 9992\n",
      "Movie: 雙子殺手, ID: 10017\n",
      "Movie: 黑魔女2, ID: 10262\n",
      "Movie: 仙戒奇緣, ID: 10211\n",
      "Movie: 小丑, ID: 9949\n",
      "Movie: 無間行動, ID: 10155\n",
      "Movie: 囧媽的極地任務, ID: 7772\n",
      "Movie: 返校, ID: 10109\n",
      "Movie: 天氣之子, ID: 10091\n",
      "Movie: 從前，有個好萊塢, ID: 9884\n",
      "Movie: 獅子王, ID: 9116\n",
      "Movie: 寄生上流, ID: 10020\n",
      "Movie: 玩具總動員4, ID: 9924\n",
      "Movie: 毀滅者, ID: 9405\n",
      "Movie: 庫爾斯克號：深海救援, ID: 9134\n",
      "Movie: 厄夜追緝令, ID: 9589\n",
      "Movie: 苦兒流浪記, ID: 9538\n",
      "Movie: 活個精彩, ID: 9394\n",
      "Movie: 限時好友, ID: 9578\n",
      "Movie: 祝你忌日快樂, ID: 9568\n",
      "Movie: 艾莉塔：戰鬥天使, ID: 8553\n",
      "Movie: 馴龍高手3, ID: 8350\n",
      "Movie: 幸福綠皮書, ID: 9150\n",
      "Movie: 一首搖滾上月球, ID: 4887\n",
      "Movie: 錢不夠用2, ID: 3026\n"
     ]
    }
   ],
   "source": [
    "# 查看目前上映那些電影，並擷取出其ID資訊\n",
    "url = 'https://movies.yahoo.com.tw/'\n",
    "resp = requests.get(url)\n",
    "resp.encoding = 'utf-8'\n",
    "\n",
    "soup = BeautifulSoup(resp.text, 'lxml')\n",
    "html = soup.find(\"select\", attrs={'name':'movie_id'})\n",
    "movie_item = html.find_all(\"option\", attrs={'data-name':re.compile('.*')})\n",
    "\n",
    "for p in movie_item:\n",
    "    print(\"Movie: %s, ID: %s\" % (p[\"data-name\"], p[\"value\"]))"
   ]
  },
  {
   "cell_type": "markdown",
   "metadata": {},
   "source": [
    "### 指定你有興趣的電影其ID，然後查詢其放映地區資訊。"
   ]
  },
  {
   "cell_type": "code",
   "execution_count": 3,
   "metadata": {},
   "outputs": [],
   "source": [
    "# 參考前一個步驟中擷取到的ID資訊，並指定ID\n",
    "movie_id = 10448"
   ]
  },
  {
   "cell_type": "code",
   "execution_count": 4,
   "metadata": {},
   "outputs": [
    {
     "name": "stdout",
     "output_type": "stream",
     "text": [
      "放映地區: 台北市, 代號(area_id): 28\n",
      "放映地區: 新北市, 代號(area_id): 8\n",
      "放映地區: 桃園, 代號(area_id): 16\n",
      "放映地區: 新竹, 代號(area_id): 20\n",
      "放映地區: 台中, 代號(area_id): 2\n",
      "放映地區: 嘉義, 代號(area_id): 21\n",
      "放映地區: 台南, 代號(area_id): 10\n",
      "放映地區: 高雄, 代號(area_id): 17\n",
      "放映地區: 花蓮, 代號(area_id): 12\n"
     ]
    }
   ],
   "source": [
    "url = 'https://movies.yahoo.com.tw/api/v1/areas_by_movie_theater'\n",
    "payload = {'movie_id':str(movie_id)}\n",
    "\n",
    "# 模擬一個header\n",
    "headers = {\n",
    "    'authority': 'movies.yahoo.com.tw',\n",
    "    'method': 'GET',\n",
    "    'path': '/api/v1/areas_by_movie_theater?movie_id=' + str(movie_id),\n",
    "    'scheme': 'https',\n",
    "    'accept': 'application/json, text/javascript, */*; q=0.01',\n",
    "    'accept-encoding': 'gzip, deflate, br',\n",
    "    'accept-language': 'zh-TW,zh;q=0.9,en-US;q=0.8,en;q=0.7,zh-CN;q=0.6',\n",
    "    'cookie': 'rxx=9s3x2fws06.1g16irnc&v=1; _ga=GA1.3.2056742944.1551651301; GUC=AQEBAQFczFpdm0IfmwSB&s=AQAAACoo4N5D&g=XMsVBw; BX=4hkdk1decm57t&b=3&s=mr; _ga=GA1.4.2056742944.1551651301; nexagesuid=82843256dd234e8e91aa73f2062f8218; browsed_movie=eyJpdiI6IlJXWWtiSWJaZlNGK2MxQnhscnVUYWc9PSIsInZhbHVlIjoiMXRhMmVHRXRIeUNjc1RBWDJzdGYwbnlIQURmWGsrcjJSMzhkbkcraDNJVUNIZEZsbzU3amlFcVZ1NzlmazJrTGpoMjVrbHk1YmpoRENXaHZTOUw1TmI2ZTZVWHdOejZQZm16RmVuMWlHTTJLaTZLVFZZVkFOMDlTd1wvSGltcytJIiwibWFjIjoiZWQ2ZjA4MmVjZmZlYjlmNjJmYmY2NGMyMDI0Njc0NWViYjVkOWE2NDg0N2RhODMxZjBjZDhiMmJhZTc2MDZhYiJ9; avi=eyJpdiI6Im1NeWFJRlVRWDR1endEcGRGUGJUbVE9PSIsInZhbHVlIjoickRpU3JuUytmcGl6cjF5OW0rNU9iZz09IiwibWFjIjoiY2VmY2NkNzZmM2NhNjY5YzlkOTcyNjE5OGEyMzU0NWYxOTdmMDRkMDY3OWNmMmZjOTMxYjc5MjI5N2Q5NGE5MiJ9; cmp=t=1559391030&j=0; _gid=GA1.4.779543841.1559391031; XSRF-TOKEN=eyJpdiI6IkhpS2hGcDRQaHlmWUJmaHdSS2Q2bHc9PSIsInZhbHVlIjoiOUVoNFk4OHI1UUZmUWRtYXhza0MyWjJSTlhlZ3RnT0VGeVJPN2JuczVRMGRFdWt2OUlsamVKeHRobFwvcHBGM0dhU3VyMXNGTHlsb2dVM2l0U1hpUGxBPT0iLCJtYWMiOiJkZWU4YzJhNjAxMTY3MzE4Y2ExNWIxYmE1ZjE1YWZlZTlhOTcyYjc4M2RlZGY4ZWNjZDYyMTA2NGYwZGViMzc2In0%3D; m_s=eyJpdiI6InpsZHZ2Tk1BZ0dxaHhETml1RjBnUXc9PSIsInZhbHVlIjoiSkNGeHUranRoXC85bDFiaDhySTJqNkJRcWdjWUxjeVRJSHVYZ1wvd2d4bWJZUTUrSHVDM0lUcW5KNHdETFZ4T1lieU81OUhzc1VoUXhZcWk0UDZSQXVFdz09IiwibWFjIjoiYmJkMDJkMDhlODIzMzcyMWY4M2NmYWNjNGVlOWRjMDIwZmVmNzAyMjE3Yzg3ZGY3ODBkZWEzZTI4MTI5ZWNmOSJ9; _gat=1; nexagesd=10',\n",
    "    'dnt': '1',\n",
    "    'mv-authorization': '21835b082e15b91a69b3851eec7b31b82ce82afb',\n",
    "    'referer': 'https://movies.yahoo.com.tw/',\n",
    "    'user-agent': 'Mozilla/5.0 (Windows NT 10.0; Win64; x64) AppleWebKit/537.36 (KHTML, like Gecko) Chrome/74.0.3729.169 Safari/537.36',\n",
    "    'x-requested-with': 'XMLHttpRequest',\n",
    "}\n",
    "    \n",
    "resp = requests.get(url, params=payload, headers=headers)\n",
    "#print(resp.json())  # 若有需要，列印出json原始碼\n",
    "\n",
    "# 這裡回傳的格式是JSON格式的資料，要解析JSON擷取資料\n",
    "for p in resp.json():\n",
    "    print('放映地區: {0}, 代號(area_id): {1}'.format(p['title'], p['area_id']))"
   ]
  },
  {
   "cell_type": "markdown",
   "metadata": {},
   "source": [
    "### 指定你想要觀看的放映地區，查詢有上映電影的場次日期"
   ]
  },
  {
   "cell_type": "code",
   "execution_count": 5,
   "metadata": {},
   "outputs": [],
   "source": [
    "# 指定放映地區\n",
    "area_id = 28"
   ]
  },
  {
   "cell_type": "code",
   "execution_count": 6,
   "metadata": {},
   "outputs": [
    {
     "name": "stdout",
     "output_type": "stream",
     "text": [
      "一月 31\n",
      "二月 1\n",
      "二月 2\n",
      "二月 3\n",
      "二月 4\n"
     ]
    }
   ],
   "source": [
    "# 向網站發送請求\n",
    "url = 'https://movies.yahoo.com.tw/movietime_result.html'\n",
    "payload = {'movie_id':str(movie_id), 'area_id':str(area_id)}\n",
    "resp = requests.get(url, params=payload)\n",
    "resp.encoding = 'utf-8'\n",
    "\n",
    "soup = BeautifulSoup(resp.text, 'lxml')\n",
    "movie_date = soup.find_all(\"label\", attrs={'for':re.compile(\"date_[\\d]\")})\n",
    "\n",
    "# 列印播放日期\n",
    "for date in movie_date:\n",
    "    print(\"%s %s\" % (date.p.string, date.h3.string))"
   ]
  },
  {
   "cell_type": "markdown",
   "metadata": {},
   "source": [
    "### 最後指定觀看的日期，查詢並列印出放映的電影院、放映類型(數位、3D、IMAX 3D...)、放映時間等資訊。"
   ]
  },
  {
   "cell_type": "code",
   "execution_count": 11,
   "metadata": {},
   "outputs": [],
   "source": [
    "# 選定要觀看的日期\n",
    "date = \"2020-02-01\""
   ]
  },
  {
   "cell_type": "code",
   "execution_count": 14,
   "metadata": {},
   "outputs": [
    {
     "data": {
      "text/plain": [
       "[<ul class=\"area_time _c jq_area_time\" data-theater_name=\"台北真善美劇院\" data-theater_schedules=\"https://movies.yahoo.com.tw/theater_result.html/id=41\" data-theater_url=\"\" id=\"theater_id_41\">\n",
       " <li class=\"adds\">\n",
       " <a href=\"https://movies.yahoo.com.tw/theater_result.html/id=41\">台北真善美劇院</a>\n",
       " <span>02-23312270</span>\n",
       " </li>\n",
       " <li class=\"taps\">\n",
       " <span class=\"tapR\">數位</span> <span class=\"tapB\">中文</span> </li>\n",
       " <li class=\"time _c\">\n",
       " <div class=\"input_picker jq_input_picker\">\n",
       " <input class=\"gabtn\" data-cinema=\"f644412efbb811e58858f2128151146f\" data-date=\"1580486400\" data-ezding=\"ezding\" data-ga=\"['電影頁_時刻表', '電影頁_時刻表_場次', '熱帶雨']\" data-movie=\"0eb1ef43eabd49e488667fde259ee6d4\" data-movie_date=\"02.01\" data-movie_time=\"14:40\" data-movie_title=\"熱帶雨\" data-movie_type=\"數位\" data-session=\"5fbb523accbd43c7a358f9bf5e8c78ba\" data-time=\"1580539200\" id=\"72863617\" name=\"schedule_list\" type=\"radio\" value=\"2020-02-01 14:40:00\"/>\n",
       " <label class=\"select\" for=\"72863617\">14:40</label>\n",
       " <input class=\"gabtn\" data-cinema=\"f644412efbb811e58858f2128151146f\" data-date=\"1580486400\" data-ezding=\"ezding\" data-ga=\"['電影頁_時刻表', '電影頁_時刻表_場次', '熱帶雨']\" data-movie=\"0eb1ef43eabd49e488667fde259ee6d4\" data-movie_date=\"02.01\" data-movie_time=\"23:15\" data-movie_title=\"熱帶雨\" data-movie_type=\"數位\" data-session=\"796a734c9382495ba99ecc783f45482b\" data-time=\"1580570100\" id=\"72863618\" name=\"schedule_list\" type=\"radio\" value=\"2020-02-01 23:15:00\"/>\n",
       " <label class=\"select\" for=\"72863618\">23:15</label>\n",
       " </div>\n",
       " </li>\n",
       " </ul>,\n",
       " <ul class=\"area_time _c jq_area_time\" data-theater_name=\"台北信義威秀影城\" data-theater_schedules=\"https://movies.yahoo.com.tw/theater_result.html/id=45\" data-theater_url=\"http://www.vscinemas.com.tw/\" id=\"theater_id_45\">\n",
       " <li class=\"adds\">\n",
       " <a href=\"https://movies.yahoo.com.tw/theater_result.html/id=45\">台北信義威秀影城</a>\n",
       " <span>02-87805566</span>\n",
       " </li>\n",
       " <li class=\"taps\">\n",
       " <span class=\"tapR\">數位</span> </li>\n",
       " <li class=\"time _c\">\n",
       " <div class=\"input_picker jq_input_picker\">\n",
       " <input class=\"gabtn\" data-cinema=\"40288eb0050f542401050f554e7e0674\" data-date=\"1580486400\" data-ezding=\"ezding\" data-ga=\"['電影頁_時刻表', '電影頁_時刻表_場次', '熱帶雨']\" data-movie=\"f6a2d703ce434e3d8740deceb5bf9d75\" data-movie_date=\"02.01\" data-movie_time=\"12:00\" data-movie_title=\"熱帶雨\" data-movie_type=\"數位\" data-session=\"397251fcdae546e8a55309ddc07da44a\" data-time=\"1580529600\" id=\"72857784\" name=\"schedule_list\" type=\"radio\" value=\"2020-02-01 12:00:00\"/>\n",
       " <label class=\"select\" for=\"72857784\">12:00</label>\n",
       " <input class=\"gabtn\" data-cinema=\"40288eb0050f542401050f554e7e0674\" data-date=\"1580486400\" data-ezding=\"ezding\" data-ga=\"['電影頁_時刻表', '電影頁_時刻表_場次', '熱帶雨']\" data-movie=\"f6a2d703ce434e3d8740deceb5bf9d75\" data-movie_date=\"02.01\" data-movie_time=\"16:00\" data-movie_title=\"熱帶雨\" data-movie_type=\"數位\" data-session=\"fea151a8d2de4d01b91095d2f4020fb6\" data-time=\"1580544000\" id=\"72857785\" name=\"schedule_list\" type=\"radio\" value=\"2020-02-01 16:00:00\"/>\n",
       " <label class=\"select\" for=\"72857785\">16:00</label>\n",
       " <input class=\"gabtn\" data-cinema=\"40288eb0050f542401050f554e7e0674\" data-date=\"1580486400\" data-ezding=\"ezding\" data-ga=\"['電影頁_時刻表', '電影頁_時刻表_場次', '熱帶雨']\" data-movie=\"f6a2d703ce434e3d8740deceb5bf9d75\" data-movie_date=\"02.01\" data-movie_time=\"20:00\" data-movie_title=\"熱帶雨\" data-movie_type=\"數位\" data-session=\"0414fbf561b64b92863736af9a71ce60\" data-time=\"1580558400\" id=\"72857786\" name=\"schedule_list\" type=\"radio\" value=\"2020-02-01 20:00:00\"/>\n",
       " <label class=\"select\" for=\"72857786\">20:00</label>\n",
       " <input class=\"gabtn\" data-cinema=\"40288eb0050f542401050f554e7e0674\" data-date=\"1580486400\" data-ezding=\"ezding\" data-ga=\"['電影頁_時刻表', '電影頁_時刻表_場次', '熱帶雨']\" data-movie=\"f6a2d703ce434e3d8740deceb5bf9d75\" data-movie_date=\"02.01\" data-movie_time=\"22:00\" data-movie_title=\"熱帶雨\" data-movie_type=\"數位\" data-session=\"d5fbb35e41e547ba9b37c34aeff861ce\" data-time=\"1580565600\" id=\"72857787\" name=\"schedule_list\" type=\"radio\" value=\"2020-02-01 22:00:00\"/>\n",
       " <label class=\"select\" for=\"72857787\">22:00</label>\n",
       " </div>\n",
       " </li>\n",
       " </ul>,\n",
       " <ul class=\"area_time _c jq_area_time\" data-theater_name=\"喜樂時代影城南港店\" data-theater_schedules=\"https://movies.yahoo.com.tw/theater_result.html/id=186\" data-theater_url=\"http://www.centuryasia.com.tw/default.aspx\" id=\"theater_id_186\">\n",
       " <li class=\"adds\">\n",
       " <a href=\"https://movies.yahoo.com.tw/theater_result.html/id=186\">喜樂時代影城南港店</a>\n",
       " <span>02-27888185</span>\n",
       " </li>\n",
       " <li class=\"taps\">\n",
       " <span class=\"tapR\">數位</span> <span class=\"tapB\">中文</span> </li>\n",
       " <li class=\"time _c\">\n",
       " <div class=\"input_picker jq_input_picker\">\n",
       " <input class=\"gabtn\" data-cinema=\"40288eb0050f542401050f5681782dc5\" data-date=\"1580486400\" data-ezding=\"ezding\" data-ga=\"['電影頁_時刻表', '電影頁_時刻表_場次', '熱帶雨']\" data-movie=\"cd03b3eeeb0342babbb526aa427b62a4\" data-movie_date=\"02.01\" data-movie_time=\"11:40\" data-movie_title=\"熱帶雨\" data-movie_type=\"數位\" data-session=\"b469001208344a978463df80fb54303a\" data-time=\"1580528400\" id=\"72863364\" name=\"schedule_list\" type=\"radio\" value=\"2020-02-01 11:40:00\"/>\n",
       " <label class=\"select\" for=\"72863364\">11:40</label>\n",
       " <input class=\"gabtn\" data-cinema=\"40288eb0050f542401050f5681782dc5\" data-date=\"1580486400\" data-ezding=\"ezding\" data-ga=\"['電影頁_時刻表', '電影頁_時刻表_場次', '熱帶雨']\" data-movie=\"cd03b3eeeb0342babbb526aa427b62a4\" data-movie_date=\"02.01\" data-movie_time=\"15:20\" data-movie_title=\"熱帶雨\" data-movie_type=\"數位\" data-session=\"c5268c36ea5d4f3d8c8c32b2573aeb7d\" data-time=\"1580541600\" id=\"72863365\" name=\"schedule_list\" type=\"radio\" value=\"2020-02-01 15:20:00\"/>\n",
       " <label class=\"select\" for=\"72863365\">15:20</label>\n",
       " <input class=\"gabtn\" data-cinema=\"40288eb0050f542401050f5681782dc5\" data-date=\"1580486400\" data-ezding=\"ezding\" data-ga=\"['電影頁_時刻表', '電影頁_時刻表_場次', '熱帶雨']\" data-movie=\"cd03b3eeeb0342babbb526aa427b62a4\" data-movie_date=\"02.01\" data-movie_time=\"19:00\" data-movie_title=\"熱帶雨\" data-movie_type=\"數位\" data-session=\"ed80fdfac6a6460f8837fa11cef2a747\" data-time=\"1580554800\" id=\"72863366\" name=\"schedule_list\" type=\"radio\" value=\"2020-02-01 19:00:00\"/>\n",
       " <label class=\"select\" for=\"72863366\">19:00</label>\n",
       " <input class=\"gabtn\" data-cinema=\"40288eb0050f542401050f5681782dc5\" data-date=\"1580486400\" data-ezding=\"ezding\" data-ga=\"['電影頁_時刻表', '電影頁_時刻表_場次', '熱帶雨']\" data-movie=\"cd03b3eeeb0342babbb526aa427b62a4\" data-movie_date=\"02.01\" data-movie_time=\"21:00\" data-movie_title=\"熱帶雨\" data-movie_type=\"數位\" data-session=\"59c8b0eab8164906b120b7547eea33d3\" data-time=\"1580562000\" id=\"72863367\" name=\"schedule_list\" type=\"radio\" value=\"2020-02-01 21:00:00\"/>\n",
       " <label class=\"select\" for=\"72863367\">21:00</label>\n",
       " </div>\n",
       " </li>\n",
       " </ul>,\n",
       " <ul class=\"area_time _c jq_area_time\" data-theater_name=\"MUVIE CINEMAS台北松仁威秀\" data-theater_schedules=\"https://movies.yahoo.com.tw/theater_result.html/id=254\" data-theater_url=\"https://www.vscinemas.com.tw/vsweb/theater/detail2.aspx?id=23\" id=\"theater_id_254\">\n",
       " <li class=\"adds\">\n",
       " <a href=\"https://movies.yahoo.com.tw/theater_result.html/id=254\">MUVIE CINEMAS台北松仁威秀</a>\n",
       " <span>(02)8780-0800</span>\n",
       " </li>\n",
       " <li class=\"taps\">\n",
       " <span class=\"tapR\">數位</span> </li>\n",
       " <li class=\"time _c\">\n",
       " <div class=\"input_picker jq_input_picker\">\n",
       " <input class=\"gabtn\" data-cinema=\"470e99e70b5611eaa91e06ba2bcebcfa\" data-date=\"1580486400\" data-ezding=\"ezding\" data-ga=\"['電影頁_時刻表', '電影頁_時刻表_場次', '熱帶雨']\" data-movie=\"901d1fb9618f4724a0eb5e496537d1f9\" data-movie_date=\"02.01\" data-movie_time=\"19:00\" data-movie_title=\"熱帶雨\" data-movie_type=\"數位\" data-session=\"7a74738959a94e64afa212b02f3ab5fa\" data-time=\"1580554800\" id=\"72856609\" name=\"schedule_list\" type=\"radio\" value=\"2020-02-01 19:00:00\"/>\n",
       " <label class=\"select\" for=\"72856609\">19:00</label>\n",
       " </div>\n",
       " </li>\n",
       " </ul>]"
      ]
     },
     "execution_count": 14,
     "metadata": {},
     "output_type": "execute_result"
    }
   ],
   "source": [
    "# 向網站發送請求，獲取上映的電影院及時間資訊\n",
    "url = \"https://movies.yahoo.com.tw/ajax/pc/get_schedule_by_movie\"\n",
    "payload = {'movie_id':str(movie_id),\n",
    "           'date':date,\n",
    "           'area_id':str(area_id),\n",
    "           'theater_id':'',\n",
    "           'datetime':'',\n",
    "           'movie_type_id':''}\n",
    "\n",
    "resp = requests.get(url, params=payload)\n",
    "#print(resp.json()['view'])  # 若有需要，列印出json原始碼\n",
    "\n",
    "soup = BeautifulSoup(resp.json()['view'], 'lxml')\n",
    "html = soup.find_all(\"ul\", attrs={'data-theater_name':re.compile(\".*\")})\n",
    "html"
   ]
  },
  {
   "cell_type": "code",
   "execution_count": 26,
   "metadata": {},
   "outputs": [
    {
     "name": "stdout",
     "output_type": "stream",
     "text": [
      "-----------------------\n",
      "台北真善美劇院\n",
      "數位\n",
      "2020-02-01 14:40:00\n",
      "2020-02-01 23:15:00\n",
      "-----------------------\n",
      "台北信義威秀影城\n",
      "數位\n",
      "2020-02-01 12:00:00\n",
      "2020-02-01 16:00:00\n",
      "2020-02-01 20:00:00\n",
      "2020-02-01 22:00:00\n",
      "-----------------------\n",
      "喜樂時代影城南港店\n",
      "數位\n",
      "2020-02-01 11:40:00\n",
      "2020-02-01 15:20:00\n",
      "2020-02-01 19:00:00\n",
      "2020-02-01 21:00:00\n",
      "-----------------------\n",
      "MUVIE CINEMAS台北松仁威秀\n",
      "數位\n",
      "2020-02-01 19:00:00\n"
     ]
    }
   ],
   "source": [
    "'''\n",
    "\n",
    "  試著從上一步驟回傳的電影院資料中，擷取電影院名稱、影片放映類型以及時間表\n",
    "  \n",
    "  Your code here.\n",
    "\n",
    "'''\n",
    "for movie_theater in html:\n",
    "    print(\"-----------------------\")\n",
    "    \n",
    "    theater_name = movie_theater.find(\"li\", attrs={\"class\":\"adds\"})\n",
    "    print(theater_name.a.text)\n",
    "    \n",
    "    movie_type = movie_theater.find(\"span\", attrs={\"class\":\"tapR\"})\n",
    "    print(movie_type.text)\n",
    "    \n",
    "    times = movie_theater.find_all(\"input\")\n",
    "    for time in times:\n",
    "        print(time['value'])"
   ]
  },
  {
   "cell_type": "code",
   "execution_count": null,
   "metadata": {},
   "outputs": [],
   "source": []
  }
 ],
 "metadata": {
  "kernelspec": {
   "display_name": "Python 3",
   "language": "python",
   "name": "python3"
  },
  "language_info": {
   "codemirror_mode": {
    "name": "ipython",
    "version": 3
   },
   "file_extension": ".py",
   "mimetype": "text/x-python",
   "name": "python",
   "nbconvert_exporter": "python",
   "pygments_lexer": "ipython3",
   "version": "3.7.4"
  }
 },
 "nbformat": 4,
 "nbformat_minor": 2
}
