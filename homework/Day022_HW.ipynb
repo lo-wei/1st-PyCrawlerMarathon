{
 "cells": [
  {
   "cell_type": "markdown",
   "metadata": {},
   "source": [
    "# 空氣污染監測網 網路爬蟲實作練習\n",
    "\n",
    "\n",
    "* 能夠利用 selenium + BeautifulSoup 撰寫爬蟲，並存放到合適的資料結構\n"
   ]
  },
  {
   "cell_type": "markdown",
   "metadata": {},
   "source": [
    "## 作業目標\n",
    "\n",
    "根據範例 ，完成以下問題：\n",
    "\n",
    "* ① 取出 台北市士林區 2018/01 – 2018/08 的 SO2 資料\n",
    "* ② 取出 台北市士林區 2018/01 – 2018/08 的 SO2、CO 資料\n",
    "\n",
    "\n",
    "\n"
   ]
  },
  {
   "cell_type": "code",
   "execution_count": 1,
   "metadata": {},
   "outputs": [],
   "source": [
    "from selenium import webdriver\n",
    "from selenium.webdriver.support.ui import Select\n",
    "from bs4 import BeautifulSoup\n",
    "import pandas as pd\n",
    "import time"
   ]
  },
  {
   "cell_type": "markdown",
   "metadata": {},
   "source": [
    "### ① 取出 台北市士林區 2018/01 – 2018/08 的 SO2 資料"
   ]
  },
  {
   "cell_type": "code",
   "execution_count": 2,
   "metadata": {},
   "outputs": [
    {
     "data": {
      "text/html": [
       "<div>\n",
       "<style scoped>\n",
       "    .dataframe tbody tr th:only-of-type {\n",
       "        vertical-align: middle;\n",
       "    }\n",
       "\n",
       "    .dataframe tbody tr th {\n",
       "        vertical-align: top;\n",
       "    }\n",
       "\n",
       "    .dataframe thead th {\n",
       "        text-align: right;\n",
       "    }\n",
       "</style>\n",
       "<table border=\"1\" class=\"dataframe\">\n",
       "  <thead>\n",
       "    <tr style=\"text-align: right;\">\n",
       "      <th></th>\n",
       "      <th>監測日期</th>\n",
       "      <th>監測值</th>\n",
       "    </tr>\n",
       "  </thead>\n",
       "  <tbody>\n",
       "    <tr>\n",
       "      <td>0</td>\n",
       "      <td>2018/01</td>\n",
       "      <td>1.80</td>\n",
       "    </tr>\n",
       "    <tr>\n",
       "      <td>1</td>\n",
       "      <td>2018/02</td>\n",
       "      <td>1.90</td>\n",
       "    </tr>\n",
       "    <tr>\n",
       "      <td>2</td>\n",
       "      <td>2018/03</td>\n",
       "      <td>2.20</td>\n",
       "    </tr>\n",
       "    <tr>\n",
       "      <td>3</td>\n",
       "      <td>2018/04</td>\n",
       "      <td>2.30</td>\n",
       "    </tr>\n",
       "    <tr>\n",
       "      <td>4</td>\n",
       "      <td>2018/05</td>\n",
       "      <td>3.10</td>\n",
       "    </tr>\n",
       "    <tr>\n",
       "      <td>5</td>\n",
       "      <td>2018/06</td>\n",
       "      <td>2.70</td>\n",
       "    </tr>\n",
       "    <tr>\n",
       "      <td>6</td>\n",
       "      <td>2018/07</td>\n",
       "      <td>2.20</td>\n",
       "    </tr>\n",
       "    <tr>\n",
       "      <td>7</td>\n",
       "      <td>2018/08</td>\n",
       "      <td>2.40</td>\n",
       "    </tr>\n",
       "  </tbody>\n",
       "</table>\n",
       "</div>"
      ],
      "text/plain": [
       "      監測日期   監測值\n",
       "0  2018/01  1.80\n",
       "1  2018/02  1.90\n",
       "2  2018/03  2.20\n",
       "3  2018/04  2.30\n",
       "4  2018/05  3.10\n",
       "5  2018/06  2.70\n",
       "6  2018/07  2.20\n",
       "7  2018/08  2.40"
      ]
     },
     "execution_count": 2,
     "metadata": {},
     "output_type": "execute_result"
    }
   ],
   "source": [
    "# 打開瀏覽器\n",
    "browser = webdriver.Chrome(executable_path='chromedriver')\n",
    "browser.get(\"http://taqm.epa.gov.tw/taqm/tw/MonthlyAverage.aspx\")\n",
    "# 模擬使用者操作行為，選擇/點擊\n",
    "selectYear = Select(browser.find_element_by_id(\"ctl05_ddlYear\"))\n",
    "selectYear.select_by_value('2018')\n",
    "browser.find_element_by_id('ctl05_btnQuery').click()\n",
    "\n",
    "time.sleep(2)\n",
    "\n",
    "# 取得資料，丟到 BeautifulSoup 解析\n",
    "html_source = browser.page_source\n",
    "soup = BeautifulSoup(html_source, 'html.parser')\n",
    "table = soup.find('table', class_='TABLE_G')\n",
    "\n",
    "th = table.find_all('th')\n",
    "columns = [tag.text for tag in th]\n",
    "\n",
    "d = {}\n",
    "td = table.find_all('td')\n",
    "\n",
    "for tag in td:\n",
    "    if tag.attrs and tag.get('style'):\n",
    "        d.setdefault(tag.text, {})\n",
    "    elif not tag.attrs and tag.text.strip():\n",
    "        if '/' in tag.text:\n",
    "            k = tag.text\n",
    "        else:\n",
    "            d[list(d.keys())[-1]].setdefault(k, tag.text)\n",
    "\n",
    "df = pd.DataFrame(d)\n",
    "df2 = df[['SO2']].iloc[:8].reset_index()\n",
    "df2.columns = columns[2:4]\n",
    "df2"
   ]
  },
  {
   "cell_type": "markdown",
   "metadata": {},
   "source": [
    "### ② 取出 台北市士林區 2018/01 – 2018/08 的 SO2、CO 資料"
   ]
  },
  {
   "cell_type": "code",
   "execution_count": 3,
   "metadata": {},
   "outputs": [
    {
     "data": {
      "text/html": [
       "<div>\n",
       "<style scoped>\n",
       "    .dataframe tbody tr th:only-of-type {\n",
       "        vertical-align: middle;\n",
       "    }\n",
       "\n",
       "    .dataframe tbody tr th {\n",
       "        vertical-align: top;\n",
       "    }\n",
       "\n",
       "    .dataframe thead th {\n",
       "        text-align: right;\n",
       "    }\n",
       "</style>\n",
       "<table border=\"1\" class=\"dataframe\">\n",
       "  <thead>\n",
       "    <tr style=\"text-align: right;\">\n",
       "      <th></th>\n",
       "      <th>監測日期</th>\n",
       "      <th>SO2-監測值</th>\n",
       "      <th>CO-監測值</th>\n",
       "    </tr>\n",
       "  </thead>\n",
       "  <tbody>\n",
       "    <tr>\n",
       "      <td>0</td>\n",
       "      <td>2018/01</td>\n",
       "      <td>1.80</td>\n",
       "      <td>0.34</td>\n",
       "    </tr>\n",
       "    <tr>\n",
       "      <td>1</td>\n",
       "      <td>2018/02</td>\n",
       "      <td>1.90</td>\n",
       "      <td>0.44</td>\n",
       "    </tr>\n",
       "    <tr>\n",
       "      <td>2</td>\n",
       "      <td>2018/03</td>\n",
       "      <td>2.20</td>\n",
       "      <td>0.40</td>\n",
       "    </tr>\n",
       "    <tr>\n",
       "      <td>3</td>\n",
       "      <td>2018/04</td>\n",
       "      <td>2.30</td>\n",
       "      <td>0.38</td>\n",
       "    </tr>\n",
       "    <tr>\n",
       "      <td>4</td>\n",
       "      <td>2018/05</td>\n",
       "      <td>3.10</td>\n",
       "      <td>0.34</td>\n",
       "    </tr>\n",
       "    <tr>\n",
       "      <td>5</td>\n",
       "      <td>2018/06</td>\n",
       "      <td>2.70</td>\n",
       "      <td>0.29</td>\n",
       "    </tr>\n",
       "    <tr>\n",
       "      <td>6</td>\n",
       "      <td>2018/07</td>\n",
       "      <td>2.20</td>\n",
       "      <td>0.21</td>\n",
       "    </tr>\n",
       "    <tr>\n",
       "      <td>7</td>\n",
       "      <td>2018/08</td>\n",
       "      <td>2.40</td>\n",
       "      <td>0.30</td>\n",
       "    </tr>\n",
       "  </tbody>\n",
       "</table>\n",
       "</div>"
      ],
      "text/plain": [
       "      監測日期 SO2-監測值 CO-監測值\n",
       "0  2018/01    1.80   0.34\n",
       "1  2018/02    1.90   0.44\n",
       "2  2018/03    2.20   0.40\n",
       "3  2018/04    2.30   0.38\n",
       "4  2018/05    3.10   0.34\n",
       "5  2018/06    2.70   0.29\n",
       "6  2018/07    2.20   0.21\n",
       "7  2018/08    2.40   0.30"
      ]
     },
     "execution_count": 3,
     "metadata": {},
     "output_type": "execute_result"
    }
   ],
   "source": [
    "df = pd.DataFrame(d)\n",
    "df2 = df[['SO2', 'CO']].iloc[:8].reset_index()\n",
    "old_columns = list(df2.columns)\n",
    "new_columns = columns[2:3] + \\\n",
    "              list(map(lambda x: str(x) + '-' + ''.join(columns[3:4]), old_columns[1:]))\n",
    "df2.columns = new_columns\n",
    "df2"
   ]
  },
  {
   "cell_type": "code",
   "execution_count": 4,
   "metadata": {},
   "outputs": [],
   "source": [
    "# 關閉瀏覽器\n",
    "browser.quit()"
   ]
  }
 ],
 "metadata": {
  "kernelspec": {
   "display_name": "Python 3",
   "language": "python",
   "name": "python3"
  },
  "language_info": {
   "codemirror_mode": {
    "name": "ipython",
    "version": 3
   },
   "file_extension": ".py",
   "mimetype": "text/x-python",
   "name": "python",
   "nbconvert_exporter": "python",
   "pygments_lexer": "ipython3",
   "version": "3.7.4"
  }
 },
 "nbformat": 4,
 "nbformat_minor": 2
}
