{
 "cells": [
  {
   "cell_type": "markdown",
   "metadata": {},
   "source": [
    "# 瀏覽器開發者工具介紹\n",
    "\n",
    "\n",
    "* 知道瀏覽器的開發者工具\n",
    "* 能夠使用瀏覽器的開發者工具觀察資料\n"
   ]
  },
  {
   "cell_type": "markdown",
   "metadata": {},
   "source": [
    "## 作業目標\n",
    "\n",
    "利用開發者工具去尋找「 https://www.zhihu.com/explore 」和「 http://aicoin.cn 」網站的 HTTP 網址，以及他所帶的 Headers 分別是哪些，試著用 request 去發送有沒有帶 Headers 的差異。\n"
   ]
  },
  {
   "cell_type": "markdown",
   "metadata": {},
   "source": [
    "### 1. https://www.zhihu.com/explore "
   ]
  },
  {
   "cell_type": "code",
   "execution_count": 5,
   "metadata": {
    "scrolled": true
   },
   "outputs": [
    {
     "name": "stdout",
     "output_type": "stream",
     "text": [
      "<html>\r\n",
      "<head><title>400 Bad Request</title></head>\r\n",
      "<body bgcolor=\"white\">\r\n",
      "<center><h1>400 Bad Request</h1></center>\r\n",
      "<hr><center>openresty</center>\r\n",
      "</body>\r\n",
      "</html>\r\n",
      "\n"
     ]
    }
   ],
   "source": [
    "import requests\n",
    "url = 'https://www.zhihu.com/explore'\n",
    "r = requests.get(url)\n",
    "r.encoding = 'utf-8'\n",
    "print(r.text)"
   ]
  },
  {
   "attachments": {},
   "cell_type": "markdown",
   "metadata": {},
   "source": [
    "### 利用查看開發者工具觀察 Headers\n",
    "\n",
    "\n",
    "![zhihu.png](https://i.imgur.com/RFG2hTe.png)"
   ]
  },
  {
   "cell_type": "code",
   "execution_count": 2,
   "metadata": {},
   "outputs": [
    {
     "name": "stdout",
     "output_type": "stream",
     "text": [
      "<!doctype html><html data-theme=\"light\" lang=\"zh\" data-reactroot=\"\"><head><meta charset=\"utf-8\"/><meta name=\"viewport\" content=\"width=device-width,initial-scale=1,maximum-scale=1,viewport-fit=cover\"/><title data-react-helmet=\"true\"></title><meta name=\"description\" content=\"有问题，上知乎。知乎，可信赖的问答社区，以让每个人高效获得可信赖的解答为使命。知乎凭借认真、专业和友善的社区氛围，结构化、易获得的优质内容，基于问答的内容生产方式和独特的社区机制，吸引、聚集了各行各业中大量的亲历者、内行人、领域专家、领域爱好者，将高质量的内容透过人的节点来成规模地生产和分享。用户通过问答等交流方式建立信任和连接，打造和提升个人影响力，并发现、获得新机会。\"/><link rel=\"shortcut icon\" type=\"image/x-icon\" href=\"https://static.zhihu.com/static/favicon.ico\"/><link rel=\"stylesheet\" href=\"https://s\n"
     ]
    }
   ],
   "source": [
    "import requests\n",
    "url = 'http://www.zhihu.com'\n",
    "\n",
    "headers = {\n",
    "    'authority': 'www.zhihu.com',\n",
    "    'method': 'GET',\n",
    "    'path': '/explore',\n",
    "    'scheme': 'https',\n",
    "    'accept': 'text/html,application/xhtml+xml,application/xml;q=0.9,image/webp,image/apng,*/*;q=0.8,application/signed-exchange;v=b3;q=0.9',\n",
    "    'accept-encoding': 'gzip, deflate, br',\n",
    "    'accept-language': 'en-US,en;q=0.9,zh-TW;q=0.8,zh;q=0.7,zh-CN;q=0.6',\n",
    "    'cache-control': 'max-age=0',\n",
    "    'cookie': '_zap=f40621ad-1dd9-4b6b-ade9-ea5213b0bbcd; d_c0=\"ADDgJqbGVhCPTvx13aubR_GwQQicflZ0ypw=|1573481343\"; _xsrf=xOCjwuK7spklfKjqOFBMV9a0cmGtd1PG; Hm_lvt_98beee57fd2ef70ccdd5ca52b9740c49=1579243617; l_n_c=1; n_c=1; Hm_lpvt_98beee57fd2ef70ccdd5ca52b9740c49=1580706347; capsion_ticket=\"2|1:0|10:1580706347|14:capsion_ticket|44:YTQ0NDQ5Nzg0ODNkNDViZDg1ZTc1MGViNzNkNjkwZGU=|5e42af12c423a1c4512a5f1fccf20b64f6cc61c9665d159d9f874b9af88f9df5\"; q_c1=2f1d2dffc63b47a7921745a88004c545|1580707878000|1580707878000; r_cap_id=\"OGE0MWNmYTFkYjg5NGU2YzliZGM1NGY3ZGQyNjZkZWU=|1580707878|5df9bd35c94518e6f3d135c8c5d5dc9370fea423\"; cap_id=\"YzJhM2ZkZTIzMDBlNDc1ZjhhOGNhYmNmOTZiZTgwNDc=|1580707877|6b13a44afa5c978560140d3ba307d76376ddc1d9\"; l_cap_id=\"YTFjYjBhZmU5ZjQ4NGNiZmI5MDZmMmM0OTIwMzU3MmE=|1580707878|960ab7e380a521e52b59102b371b9bbd179c2c12\"; KLBRSID=0a401b23e8a71b70de2f4b37f5b4e379|1580707882|1580706313; __utma=51854390.540484481.1580707882.1580707882.1580707882.1; __utmb=51854390.0.10.1580707882; __utmc=51854390; __utmz=51854390.1580707882.1.1.utmcsr=(direct)|utmccn=(direct)|utmcmd=(none); __utmv=51854390.010--|3=entry_date=20200203=1',    'sec-fetch-mode': 'navigate',\n",
    "    'sec-fetch-site': 'none',\n",
    "    'sec-fetch-user': '?1',\n",
    "    'upgrade-insecure-requests': '1',\n",
    "    'user-agent': 'Mozilla/5.0 (Linux; Android 6.0; Nexus 5 Build/MRA58N) AppleWebKit/537.36 (KHTML, like Gecko) Chrome/79.0.3945.130 Mobile Safari/537.36'\n",
    "}\n",
    "\n",
    "r = requests.get(url, headers=headers)\n",
    "\n",
    "r.encoding = 'utf-8'\n",
    "print(r.text[0:600])"
   ]
  },
  {
   "cell_type": "markdown",
   "metadata": {},
   "source": [
    "### 2. http://aicoin.cn"
   ]
  },
  {
   "cell_type": "code",
   "execution_count": 3,
   "metadata": {},
   "outputs": [
    {
     "name": "stdout",
     "output_type": "stream",
     "text": [
      "<!DOCTYPE html><html style=\"height:100%;width:100%\"><head><meta http-equiv=\"Content-Type\" content=\"text/html; charset=utf-8\" /><meta http-equiv=\"Server\" content=\"CloudWAF\" /><title id=\"title\">访问被拦截！</title><script>function bindall() {var requestid = \"30-31-19-20191215002325-4ae85119\";if(requestid==null || requestid == \"\"){return;}document.getElementById(\"d\").innerText = requestid;}</script></head><body onload=\"bindall()\" style=\"height:100%;width:100%;margin:0px;font-family:Microsoft yahei\"><div><style type=\"text/css\">\t.button{float:right;margin-right:2rem;text-decoration:none;background:white;color:#e94d4c;padding: 5px 15px 5px 15px;font-size:1rem;font-family: 微软雅黑,宋体,Arial,Helvetica,Verdana,sans-serif;font-weight:bold;border-radius:0rem;border: none;-webkit-transition:all linear 0.30s;-moz-transition:all linear 0.30s;}.button:hover{text-decoration:none;background:#e94d4c;color:#f2f2f2;}</style><input type=\"button\" class=\"button\" onclick=\"changeLanguageZh()\" value=\"中文\"/><input type=\"button\" class=\"button\"  onclick=\"changeLanguageEn()\" value=\"English\"/></div><div style=\"min-height:13.125rem;height:17%;width:100%\"><div style=\"margin-top:3.75rem;margin-left:18.4375rem;height:52.38;width:83.04%;\"><svg xmlns=\"http://www.w3.org/2000/svg\" style=\"width: 3.125rem;height: 3.125rem\" viewBox=\"0 0 50 50\"><path fill=\"#e84e4c\" d=\"M25,0A25,25,0,1,0,50,25,25,25,0,0,0,25,0Zm1.6,37.16H22.85V33.41H26.6Zm0-6.63H22.85L22.35,13H27.1Z\"/></svg><font style=\"font-family:MicrosoftYaHei;font-size:4.375rem;color:#e94d4c;margin-left: 0.75rem;font-weight: bold;\">418</font></div><div style=\"margin-left:18.4375rem;height:47.62%;width:83.04%;\"><font id=\"a\" style=\"font-family:MicrosoftYaHei;font-size:1.875rem;color:#999999;word-wrap:break-word;\">您的请求疑似攻击行为！</font><p style=\"font-family:MicrosoftYaHei;font-size:0.9rem;color:#999999;word-wrap:break-word;\"><span id=\"c\">事件ID：</span><span style=\"color:#499df2\" id=\"d\">False alarm ID</p></div></div><div style=\"height:15.625rem;width:100%;min-width:105rem;\"><div style=\"margin-left:18.4375rem;float:left;width:50rem\"><p id=\"b\" style=\"margin-top:10px\">如果您是站长，您可以前往WAF控制台进行误报屏蔽设置，让您的访问不再被拦截</p></div></div></body><script>function changeLanguageZh() {document.getElementById(\"title\").innerHTML = \"访问被拦截！\";document.getElementById(\"a\").innerHTML = \"您的请求疑似攻击行为！\";document.getElementById(\"b\").innerHTML = \"如果您是站长，您可以前往WAF控制台进行误报屏蔽设置，让您的访问不再被拦截\";document.getElementById(\"c\").innerHTML = \"事件ID：\";}function changeLanguageEn() {document.getElementById(\"title\").innerHTML = \"The access is blocked.\";document.getElementById(\"a\").innerHTML = \"Sorry, your request has been intercepted because it appears to be an attack.\";document.getElementById(\"b\").innerHTML = \"If you are the webmaster, configure related parameters on the WAF console to allow your requests.\";document.getElementById(\"c\").innerHTML = \"Event ID:\";}var language = navigator.language || navigator.browserLanguage;if (language.indexOf('zh') > -1) {changeLanguageZh();} else if (language.indexOf('en') > -1) {changeLanguageEn();} else{changeLanguageZh();}</script></html>\n",
      "\n"
     ]
    }
   ],
   "source": [
    "import requests\n",
    "\n",
    "url = 'http://aicoin.cn/'\n",
    "r = requests.get(url)\n",
    "r.encoding = 'utf-8'\n",
    "print(r.text)"
   ]
  },
  {
   "attachments": {},
   "cell_type": "markdown",
   "metadata": {},
   "source": [
    "### 利用查看開發者工具觀察 Headers\n",
    "\n",
    "![2.png](https://i.imgur.com/5fc8WTN.png)"
   ]
  },
  {
   "cell_type": "code",
   "execution_count": 7,
   "metadata": {},
   "outputs": [
    {
     "name": "stdout",
     "output_type": "stream",
     "text": [
      "<!DOCTYPE html><html lang=\"en\"><head><link rel=\"preload\" href=\"/_next/7ffdce94-4daf-4e97-852f-05645de18263/page/\" as=\"script\"/><link rel=\"preload\" href=\"/_next/7ffdce94-4daf-4e97-852f-05645de18263/page/_error/index.js\" as=\"script\"/><link rel=\"preload\" href=\"/_next/eab4a839cf46ff44670f9bb53f95a198/app.js\" as=\"script\"/><meta charset=\"utf-8\" class=\"next-head\"/><title data-jsx=\"3917026754\" class=\"next-head\">Download | AICoin - More Efficiency for Higher Value</title><script data-jsx=\"3917026754\" class=\"next-head\">\n",
      "              !function(N,M){function L(){var a=I.getBoundingClientRect().width;a/F>\n"
     ]
    }
   ],
   "source": [
    "import requests\n",
    "url = 'http://www.aicoin.cn/'\n",
    "\n",
    "headers = {\n",
    "    'Accept': 'text/html,application/xhtml+xml,application/xml;q=0.9,image/webp,image/apng,*/*;q=0.8,application/signed-exchange;v=b3;q=0.9',\n",
    "    'Accept-Encoding': 'gzip, deflate, br',\n",
    "    'Accept-Language': 'en-US,en;q=0.9,zh-TW;q=0.8,zh;q=0.7,zh-CN;q=0.6',\n",
    "    'Cache-Control': 'max-age=0',\n",
    "    'Connection': 'keep-alive',\n",
    "    'Cookie': 'HWWAFSESID=fff527352776f0ba2a; HWWAFSESTIME=1580706325694; Hm_lvt_3c606e4c5bc6e9ff490f59ae4106beb4=1580706332; Hm_lpvt_3c606e4c5bc6e9ff490f59ae4106beb4=1580706332; _pk_testcookie..undefined=1; _pk_testcookie.2.57ea=1; _pk_id.2.57ea=be14c30a7b984aa3.1580706334.1.1580706334.1580706334.; _ga=GA1.2.827109.1580706335; _gid=GA1.2.469868199.1580706335; aicoin_session=eyJpdiI6IklxSjdLT1pBQmJnSDFLVEw2djY4WUE9PSIsInZhbHVlIjoiSXBoZHZweElJY0NxNTRobmpVOUpNeXRidjJcL245cTNZVFhOQjl5eXRmaExIY1NVbXZobFlBNzhGZTVjVWxuUjNzbHF3NjdNK1lQUk01dnZ6VmcrMjdnPT0iLCJtYWMiOiJiM2VlNzU2YzM4NmJkMmVhMGIwOGNmYjUzN2M4NWUwYzQ3ZmMzNDY5N2Y3OTgzZTQzNzg0ZTFkZTkxNzlkYmVhIn0%3D',\n",
    "    'Host': 'www.aicoin.cn',\n",
    "    'If-None-Match': 'W/\"10a7ec-odIDLcGh61IduxLoGetOo4YI7uU\"',\n",
    "    'Sec-Fetch-Mode': 'navigate',\n",
    "    'Sec-Fetch-Site': 'same-origin',\n",
    "    'Sec-Fetch-User': '?1',\n",
    "    'Upgrade-Insecure-Requests': '1',\n",
    "    'User-Agent': 'Mozilla/5.0 (Linux; Android 6.0; Nexus 5 Build/MRA58N) AppleWebKit/537.36 (KHTML, like Gecko) Chrome/79.0.3945.130 Mobile Safari/537.36'\n",
    "}\n",
    "\n",
    "r = requests.get(url, headers=headers)\n",
    "print(r.text[0:600])"
   ]
  },
  {
   "cell_type": "code",
   "execution_count": null,
   "metadata": {},
   "outputs": [],
   "source": []
  },
  {
   "cell_type": "code",
   "execution_count": null,
   "metadata": {},
   "outputs": [],
   "source": []
  }
 ],
 "metadata": {
  "kernelspec": {
   "display_name": "Python 3",
   "language": "python",
   "name": "python3"
  },
  "language_info": {
   "codemirror_mode": {
    "name": "ipython",
    "version": 3
   },
   "file_extension": ".py",
   "mimetype": "text/x-python",
   "name": "python",
   "nbconvert_exporter": "python",
   "pygments_lexer": "ipython3",
   "version": "3.7.4"
  }
 },
 "nbformat": 4,
 "nbformat_minor": 2
}
